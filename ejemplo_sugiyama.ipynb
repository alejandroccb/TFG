{
 "cells": [
  {
   "cell_type": "code",
   "execution_count": 2,
   "id": "68b8f666",
   "metadata": {},
   "outputs": [],
   "source": [
    "load('../src/sccc_sugiyama.sage')"
   ]
  },
  {
   "cell_type": "code",
   "execution_count": 3,
   "id": "9c7ee691",
   "metadata": {},
   "outputs": [
    {
     "name": "stdout",
     "output_type": "stream",
     "text": [
      "K: Fraction Field of Univariate Polynomial Ring in t over Finite Field in a of size 2^3\n"
     ]
    },
    {
     "data": {
      "text/plain": [
       "Ore Polynomial Ring in x over Fraction Field of Univariate Polynomial Ring in t over Finite Field in a of size 2^3 twisted by t |--> 1/(t + a)"
      ]
     },
     "execution_count": 3,
     "metadata": {},
     "output_type": "execute_result"
    }
   ],
   "source": [
    "# Define the finite field and polynomial ring\n",
    "F = GF(8, 'a')  # Finite field of size 8\n",
    "a = F.gen()  # Primitive element generator of F8\n",
    "R = PolynomialRing(F,'t')  # Polynomial Ring on t over F\n",
    "K.<t> = FractionField(R)  # field of rational functions over F, F(t)\n",
    "\n",
    "print(\"K:\", K)\n",
    "\n",
    "# Define the automorphism and its inverse\n",
    "sigma = K.hom([1/(t+a)])\n",
    "inverse_sigma = K.hom([(1-a*t)/t])\n",
    "\n",
    "# Define the ore extension F(t)[x;sigma]\n",
    "P.<x> = SkewPolynomialRing(K, sigma) ; P"
   ]
  },
  {
   "cell_type": "markdown",
   "id": "591a9b78",
   "metadata": {},
   "source": [
    "Calculamos el orden del automorfismo, es decir el primer $n > 0$ tal que $\\sigma^n(t) = t$"
   ]
  },
  {
   "cell_type": "code",
   "execution_count": 4,
   "id": "bf87853a",
   "metadata": {},
   "outputs": [
    {
     "data": {
      "text/plain": [
       "9"
      ]
     },
     "execution_count": 4,
     "metadata": {},
     "output_type": "execute_result"
    }
   ],
   "source": [
    "# Check the Automorphism order\n",
    "order_of_automorphism(K, sigma)"
   ]
  },
  {
   "cell_type": "markdown",
   "id": "a8536a8d",
   "metadata": {},
   "source": [
    "Obtenemos que el orden de $\\sigma$ es 9, por tanto trabajaremos en $$\\mathcal{R} = \\frac{\\mathbb{F}(t)[x;\\sigma]}{\\langle x^n -1\\rangle}$$ con $n = 9$."
   ]
  },
  {
   "cell_type": "markdown",
   "id": "e13c4424",
   "metadata": {},
   "source": [
    "Ahora debemos buscar un $\\alpha$ de manera que $\\{\\alpha,\\sigma(\\alpha),\\dots,\\sigma^{n-1}(\\alpha)\\}$ sea una base normal de la extensión de cuerpos $\\mathbb{F}(t)^{\\sigma} \\subseteq \\mathbb{F}(t)$, esto es equivalente a que el siguiente determinante\n",
    "\n",
    "\n",
    "\\begin{vmatrix}\n",
    "\\alpha & \\sigma(\\alpha) & \\sigma^2(\\alpha) & \\cdots & \\sigma^{n-1}(\\alpha) \\\\\n",
    "\\sigma(\\alpha) & \\sigma^2(\\alpha) & \\sigma^3(\\alpha) & \\cdots & \\alpha\\\\\n",
    "\\vdots & \\vdots & \\vdots & \\ddots & \\vdots \\\\\n",
    "\\sigma^{n-1}(\\alpha) & c & \\sigma(\\alpha) & \\cdots & \\sigma^{n-2}(\\alpha)\n",
    "\\end{vmatrix}\n",
    "\n",
    "sea distinto de cero."
   ]
  },
  {
   "cell_type": "code",
   "execution_count": 5,
   "id": "977e1514",
   "metadata": {},
   "outputs": [
    {
     "data": {
      "text/plain": [
       "True"
      ]
     },
     "execution_count": 5,
     "metadata": {},
     "output_type": "execute_result"
    }
   ],
   "source": [
    "alpha = t\n",
    "normal_basis(sigma,alpha,K)"
   ]
  },
  {
   "cell_type": "markdown",
   "id": "223a09e4",
   "metadata": {},
   "source": [
    "Como forma una base normal podemos seguir con la construcción de un código convolucional sesgado RS.\n",
    "Ahora debemos calcular $\\beta = \\alpha^{-1}\\sigma(\\alpha)$."
   ]
  },
  {
   "cell_type": "code",
   "execution_count": 6,
   "id": "d02513a1",
   "metadata": {},
   "outputs": [
    {
     "data": {
      "text/plain": [
       "1/(t^2 + a*t)"
      ]
     },
     "execution_count": 6,
     "metadata": {},
     "output_type": "execute_result"
    }
   ],
   "source": [
    "beta = alpha^(-1)*sigma(alpha) ; beta\n"
   ]
  },
  {
   "cell_type": "markdown",
   "id": "6679d801",
   "metadata": {},
   "source": [
    "Sabemos que el mínimo común múltiplo por la izquierda de $g = \\left[ \\{x - \\sigma^i(\\beta)\\}_{i=0,1,2,3,4} \\right]_\\ell$ genera un $[9,5]$-código convolucional sesgado Reed-Solomon de distancia diseñada $\\delta = 6$."
   ]
  },
  {
   "cell_type": "markdown",
   "id": "3a08cd13",
   "metadata": {},
   "source": [
    "## Construcción de un código convolucional sesgado RS"
   ]
  },
  {
   "cell_type": "code",
   "execution_count": 7,
   "id": "ac4c22f2",
   "metadata": {},
   "outputs": [
    {
     "data": {
      "text/plain": [
       "[x + 1/(t^2 + a*t),\n",
       " x + ((a^2 + 1)*t^2 + a)/(t + a^2 + a + 1),\n",
       " x + ((a + 1)*t^2 + a^2 + 1)/(t^2 + a^2*t + a^2 + a + 1),\n",
       " x + (a*t^2 + a^2)/(t^2 + (a^2 + a)*t + a^2 + a + 1)]"
      ]
     },
     "execution_count": 7,
     "metadata": {},
     "output_type": "execute_result"
    }
   ],
   "source": [
    "g_list = []\n",
    "for i in range(4):\n",
    "    sigma_i = sigma^i\n",
    "    g_list.append(x - sigma_i(beta))\n",
    "g_list"
   ]
  },
  {
   "cell_type": "markdown",
   "id": "2541edba",
   "metadata": {},
   "source": [
    "Construimos $\\mathcal{C}$ a partir de los elementos anteriores. También necesitamos haber definido previamente el automorfismo inverso si queremos decodificar."
   ]
  },
  {
   "cell_type": "code",
   "execution_count": 20,
   "id": "a0c732c9",
   "metadata": {},
   "outputs": [
    {
     "data": {
      "text/plain": [
       "[9,5] Skew Reed-Solomon Convolutional Code on Ore Polynomial Ring in x over Fraction Field of Univariate Polynomial Ring in t over Finite Field in a of size 2^3 twisted by t |--> 1/(t + a) with designed distance 5"
      ]
     },
     "execution_count": 20,
     "metadata": {},
     "output_type": "execute_result"
    }
   ],
   "source": [
    "C = SkewRSConvolutionalCode(roots = g_list,inverse_aut = inverse_sigma,alpha = alpha) ; C"
   ]
  },
  {
   "cell_type": "markdown",
   "id": "0364ee79",
   "metadata": {},
   "source": [
    "A partir de $\\mathcal{C}$ podemos obtener varios elementos."
   ]
  },
  {
   "cell_type": "markdown",
   "id": "9a80e9a0",
   "metadata": {},
   "source": [
    "**Polinomio generador del código**"
   ]
  },
  {
   "cell_type": "code",
   "execution_count": 21,
   "id": "d11c0dca",
   "metadata": {},
   "outputs": [
    {
     "data": {
      "text/plain": [
       "x^4 + (((a^2 + 1)*t^5 + (a + 1)*t^4 + a*t + a^2 + a + 1)/(t^5 + (a^2 + 1)*t^4 + (a^2 + a + 1)*t + a^2 + a))*x^3 + (((a + 1)*t^6 + (a + 1)*t^5 + (a^2 + a + 1)*t^4 + t^2 + t + a^2)/(t^6 + t^5 + a*t^4 + (a^2 + a + 1)*t^2 + (a^2 + a + 1)*t + a^2 + 1))*x^2 + ((a^2*t^7 + (a^2 + a + 1)*t^6 + (a^2 + 1)*t^5 + (a^2 + a + 1)*t^4)/(t^7 + a*t^6 + t^5 + (a^2 + a)*t^4 + (a^2 + a + 1)*t^3 + (a^2 + 1)*t^2 + (a^2 + a + 1)*t + a^2))*x + ((a^2 + 1)*t^6 + (a^2 + a)*t^5 + (a^2 + a)*t^4 + t^3 + (a^2 + 1)*t^2 + t + a)/(t^7 + (a^2 + a + 1)*t^6 + a*t^5 + a^2*t^4 + (a^2 + a + 1)*t^3 + (a + 1)*t^2 + (a^2 + 1)*t + 1)"
      ]
     },
     "execution_count": 21,
     "metadata": {},
     "output_type": "execute_result"
    }
   ],
   "source": [
    "C.generator_polynomial()"
   ]
  },
  {
   "cell_type": "markdown",
   "id": "195faf8b",
   "metadata": {},
   "source": [
    "**Longitud del Código**"
   ]
  },
  {
   "cell_type": "code",
   "execution_count": 22,
   "id": "17777803",
   "metadata": {},
   "outputs": [
    {
     "data": {
      "text/plain": [
       "9"
      ]
     },
     "execution_count": 22,
     "metadata": {},
     "output_type": "execute_result"
    }
   ],
   "source": [
    "C.length()"
   ]
  },
  {
   "cell_type": "markdown",
   "id": "642f28a0",
   "metadata": {},
   "source": [
    "**Dimensión del Código**"
   ]
  },
  {
   "cell_type": "code",
   "execution_count": 23,
   "id": "3cc5805c",
   "metadata": {},
   "outputs": [
    {
     "data": {
      "text/plain": [
       "5"
      ]
     },
     "execution_count": 23,
     "metadata": {},
     "output_type": "execute_result"
    }
   ],
   "source": [
    "C.dimension()"
   ]
  },
  {
   "cell_type": "markdown",
   "id": "924cccac",
   "metadata": {},
   "source": [
    "## Codificación de palabras código"
   ]
  },
  {
   "cell_type": "code",
   "execution_count": 24,
   "id": "74b4f0f2",
   "metadata": {},
   "outputs": [
    {
     "data": {
      "text/plain": [
       "SkewRSConvolutionalEncoder for a [9,5] Skew Reed-Solomon Convolutional Code on Ore Polynomial Ring in x over Fraction Field of Univariate Polynomial Ring in t over Finite Field in a of size 2^3 twisted by t |--> 1/(t + a) with designed distance 5"
      ]
     },
     "execution_count": 24,
     "metadata": {},
     "output_type": "execute_result"
    }
   ],
   "source": [
    "E = SkewRSConvolutionalEncoder(C) ; E"
   ]
  },
  {
   "cell_type": "markdown",
   "id": "681431ce",
   "metadata": {},
   "source": [
    "Podemos probar a codificar varios mensajes. Como la dimensión del código es $k = 5$ estos mensajes deberán ser de grado menor o igual que $4$. Recordemos que el espacio de estos mensajes es $\\mathbb{F}(t)[x;\\sigma]$."
   ]
  },
  {
   "cell_type": "markdown",
   "id": "b145bf03",
   "metadata": {},
   "source": [
    "Codificación del mensaje $m = \\frac{at^4 + at^2 + t + a}{t^3 + a}x^4 + \\frac{t^2 + at + a + 1}{t + a^2}x + \\frac{t + a}{t^5 + a^2}$"
   ]
  },
  {
   "cell_type": "code",
   "execution_count": 25,
   "id": "f1770004",
   "metadata": {},
   "outputs": [
    {
     "data": {
      "text/plain": [
       "((a*t^4 + a*t^2 + t + a)/(t^3 + a))*x^4 + ((t^2 + a*t + a + 1)/(t + a^2))*x + (t + a)/(t^5 + a^2)"
      ]
     },
     "execution_count": 25,
     "metadata": {},
     "output_type": "execute_result"
    }
   ],
   "source": [
    "m = (a*t^4 + a*t^2 + t + a)/(t^3 + a) * x^4 + (t^2 + a*t + a^3)/(t + a^2) * x + (t + a)/(t^5 + a^2) ; m"
   ]
  },
  {
   "cell_type": "code",
   "execution_count": 26,
   "id": "a8dd6067",
   "metadata": {},
   "outputs": [
    {
     "data": {
      "text/plain": [
       "((a*t^4 + a*t^2 + t + a)/(t^3 + a))*x^8 + ((a*t^9 + t^8 + a*t^7 + t^5 + a*t^4 + (a^2 + a)*t^3 + a*t + a + 1)/(t^4 + (a^2 + a + 1)*t^3 + a*t + a^2 + 1))*x^7 + (((a^2 + 1)*t^10 + (a^2 + 1)*t^9 + a^2*t^8 + a*t^7 + (a^2 + 1)*t^6 + (a^2 + a)*t^5 + (a^2 + 1)*t^3 + a*t^2 + a^2 + a + 1)/(t^5 + (a^2 + 1)*t^4 + (a^2 + 1)*t^3 + a*t^2 + t + 1))*x^6 + ((a^2*t^12 + (a^2 + 1)*t^11 + (a^2 + a + 1)*t^10 + a^2*t^9 + a^2*t^8 + t^7 + (a + 1)*t^6 + (a + 1)*t^5 + (a^2 + a)*t^4 + a*t^3 + (a^2 + a + 1)*t^2 + a*t)/(t^6 + t^5 + (a^2 + a + 1)*t^4 + a*t^2 + (a^2 + 1)*t + a^2))*x^5 + (((a^2 + 1)*t^21 + (a^2 + a + 1)*t^20 + a*t^19 + (a^2 + 1)*t^18 + t^17 + (a^2 + a + 1)*t^16 + a*t^15 + (a^2 + 1)*t^14 + (a^2 + a)*t^12 + (a^2 + a)*t^11 + (a^2 + 1)*t^10 + (a^2 + 1)*t^9 + (a^2 + a)*t^8 + t^6 + t^5 + t^4 + (a^2 + a)*t^3 + (a^2 + a)*t^2 + (a^2 + 1)*t + 1)/(t^15 + (a + 1)*t^14 + t^13 + a*t^12 + a^2*t^11 + (a^2 + 1)*t^9 + a^2*t^7 + a*t^6 + (a^2 + a)*t^5 + (a + 1)*t^4 + (a^2 + a)*t^3 + t^2 + (a^2 + a)*t))*x^4 + (((a + 1)*t^17 + a^2*t^16 + a^2*t^14 + (a^2 + 1)*t^13 + t^12 + (a^2 + a)*t^11 + (a^2 + a)*t^10 + a^2*t^9 + a^2*t^8 + (a^2 + a + 1)*t^7 + (a^2 + a)*t^6 + (a^2 + 1)*t^5 + (a^2 + 1)*t^4 + a*t^3 + a^2*t^2 + (a^2 + a)*t + a^2)/(t^16 + t^15 + a*t^14 + (a^2 + 1)*t^12 + t^11 + (a^2 + 1)*t^10 + (a + 1)*t^9 + (a^2 + 1)*t^8 + (a^2 + a + 1)*t^7 + (a + 1)*t^6 + a^2*t^5 + a*t^3 + a*t^2 + a^2*t))*x^3 + (((a + 1)*t^14 + (a^2 + 1)*t^13 + (a + 1)*t^12 + (a^2 + a + 1)*t^11 + t^10 + a^2*t^9 + t^8 + a*t^7 + (a^2 + a + 1)*t^6 + a^2*t^5 + (a + 1)*t^3 + (a + 1)*t^2 + (a^2 + a + 1)*t + a)/(t^17 + (a^2 + 1)*t^16 + (a^2 + a)*t^15 + (a + 1)*t^14 + (a^2 + 1)*t^13 + (a + 1)*t^12 + t^11 + t^10 + a*t^9 + (a^2 + 1)*t^8 + a*t^7 + (a + 1)*t^6 + (a^2 + a)*t^5 + a*t^4 + t^3 + (a^2 + a + 1)*t^2 + (a^2 + a)*t))*x^2 + ((a*t^19 + a^2*t^17 + a^2*t^16 + a^2*t^15 + (a + 1)*t^14 + (a^2 + 1)*t^13 + (a^2 + a)*t^12 + (a^2 + 1)*t^11 + (a + 1)*t^10 + (a^2 + a + 1)*t^9 + (a^2 + 1)*t^8 + (a^2 + a + 1)*t^7 + t^6 + (a + 1)*t^5 + t^4 + (a^2 + a + 1)*t^3 + a*t^2 + (a^2 + a + 1)*t + a + 1)/(t^18 + (a^2 + a)*t^17 + a*t^16 + a*t^15 + (a^2 + a + 1)*t^13 + a^2*t^12 + a*t^11 + t^10 + (a + 1)*t^9 + (a^2 + a)*t^8 + (a^2 + 1)*t^7 + (a + 1)*t^6 + (a + 1)*t^5 + (a^2 + a + 1)*t^4 + a^2*t^3 + a^2*t^2 + t))*x + ((a^2 + 1)*t^7 + (a^2 + a + 1)*t^6 + t^5 + (a^2 + a)*t^4 + (a^2 + a + 1)*t^3 + a^2)/(t^12 + (a^2 + a + 1)*t^11 + a*t^10 + a^2*t^9 + (a^2 + a + 1)*t^8 + (a^2 + a + 1)*t^7 + a^2*t^6 + a*t^5 + (a^2 + a)*t^4 + t^3 + (a^2 + a + 1)*t^2 + a*t + a^2)"
      ]
     },
     "execution_count": 26,
     "metadata": {},
     "output_type": "execute_result"
    }
   ],
   "source": [
    "c = E.encode(m) ; c"
   ]
  },
  {
   "cell_type": "markdown",
   "id": "c9cab5fa",
   "metadata": {},
   "source": [
    "Al igual que hemos codificado el mensaje podemos hacer el **proceso inverso**, obteniendo el mensaje original a partir del mensaje codificado."
   ]
  },
  {
   "cell_type": "code",
   "execution_count": 27,
   "id": "90353c59",
   "metadata": {},
   "outputs": [
    {
     "data": {
      "text/plain": [
       "((a*t^4 + a*t^2 + t + a)/(t^3 + a))*x^4 + ((t^2 + a*t + a + 1)/(t + a^2))*x + (t + a)/(t^5 + a^2)"
      ]
     },
     "execution_count": 27,
     "metadata": {},
     "output_type": "execute_result"
    }
   ],
   "source": [
    "m2 = E.unencode(c) ; m2"
   ]
  },
  {
   "cell_type": "markdown",
   "id": "8441921a",
   "metadata": {},
   "source": [
    "Comprobamos que efectivamente `m2` coincide con el mensaje original."
   ]
  },
  {
   "cell_type": "code",
   "execution_count": 28,
   "id": "12d4c0ae",
   "metadata": {},
   "outputs": [
    {
     "data": {
      "text/plain": [
       "True"
      ]
     },
     "execution_count": 28,
     "metadata": {},
     "output_type": "execute_result"
    }
   ],
   "source": [
    "m2 == m"
   ]
  },
  {
   "cell_type": "markdown",
   "id": "c39d198c",
   "metadata": {},
   "source": [
    "## Decodificación de mensajes"
   ]
  },
  {
   "cell_type": "code",
   "execution_count": 29,
   "id": "4abdceae",
   "metadata": {},
   "outputs": [
    {
     "data": {
      "text/plain": [
       "<A Sugiyama-like algorithm for [9,5] Skew Reed-Solomon Convolutional Code on Ore Polynomial Ring in x over Fraction Field of Univariate Polynomial Ring in t over Finite Field in a of size 2^3 twisted by t |--> 1/(t + a) with designed distance 5 with correction capability of 2 errors>"
      ]
     },
     "execution_count": 29,
     "metadata": {},
     "output_type": "execute_result"
    }
   ],
   "source": [
    "D = SkewRSSugiyamaDecoder(C) ; D"
   ]
  },
  {
   "cell_type": "markdown",
   "id": "d16f3397",
   "metadata": {},
   "source": [
    "Supongamos que recibimos el siguiente mensaje"
   ]
  },
  {
   "cell_type": "code",
   "execution_count": 30,
   "id": "07f3c6e4",
   "metadata": {},
   "outputs": [
    {
     "data": {
      "text/plain": [
       "x^4 + (((a^2 + 1)*t^5 + (a + 1)*t^4 + a*t + a^2 + a + 1)/(t^5 + (a^2 + 1)*t^4 + (a^2 + a + 1)*t + a^2 + a))*x^3 + (((a + 1)*t^6 + (a + 1)*t^5 + (a^2 + a + 1)*t^4 + t^2 + t + a^2)/(t^6 + t^5 + a*t^4 + (a^2 + a + 1)*t^2 + (a^2 + a + 1)*t + a^2 + 1))*x^2"
      ]
     },
     "execution_count": 30,
     "metadata": {},
     "output_type": "execute_result"
    }
   ],
   "source": [
    "y = x^4 + (((a^2 + 1)*t^5 + (a + 1)*t^4 + a*t + a^2 + a + 1)/(t^5 + (a^2 + 1)*t^4 + (a^2 + a + 1)*t + a^2 + a))*x^3 + (((a + 1)*t^6 + (a + 1)*t^5 + (a^2 + a + 1)*t^4 + t^2 + t + a^2)/(t^6 + t^5 + a*t^4 + (a^2 + a + 1)*t^2 + (a^2 + a + 1)*t + a^2 + 1))*x^2 ; y"
   ]
  },
  {
   "cell_type": "markdown",
   "id": "80f3db4d",
   "metadata": {},
   "source": [
    "Este mensaje es simplemente el **polinomio generador del código** (que obviamente también es una palabra código válida) sin los términos de grado 0 y 1, por tanto el código debería ser capaz de reconstruirlo correctamente, ya que tiene una capacidad de corrección de $\\tau = 2$ errores."
   ]
  },
  {
   "cell_type": "code",
   "execution_count": 32,
   "id": "9048edc5",
   "metadata": {},
   "outputs": [],
   "source": [
    "y_corregida = D.decode_to_code(y)"
   ]
  },
  {
   "cell_type": "markdown",
   "id": "49f9a5bf",
   "metadata": {},
   "source": [
    "Ahora verificamos si la palabra decodificada coincide con el polinomio generador del código."
   ]
  },
  {
   "cell_type": "code",
   "execution_count": 33,
   "id": "4f8a31f5",
   "metadata": {},
   "outputs": [
    {
     "data": {
      "text/plain": [
       "True"
      ]
     },
     "execution_count": 33,
     "metadata": {},
     "output_type": "execute_result"
    }
   ],
   "source": [
    "y_corregida == C.generator_polynomial()"
   ]
  },
  {
   "cell_type": "markdown",
   "id": "ac1e112f",
   "metadata": {},
   "source": [
    "Vemos que **coinciden** y por tanto el mensaje recibido ha sido correctamente decodificado."
   ]
  },
  {
   "cell_type": "code",
   "execution_count": null,
   "id": "2d03bd74-074c-4372-9b46-1f6744f1faf9",
   "metadata": {},
   "outputs": [],
   "source": []
  },
  {
   "cell_type": "code",
   "execution_count": null,
   "id": "92f9dc4d-721e-4fa5-bec2-cf9c8f32c1aa",
   "metadata": {},
   "outputs": [],
   "source": []
  },
  {
   "cell_type": "code",
   "execution_count": null,
   "id": "8039e71a-4274-4ab3-858b-09700a4c2db0",
   "metadata": {},
   "outputs": [],
   "source": []
  }
 ],
 "metadata": {
  "kernelspec": {
   "display_name": "SageMath 9.5",
   "language": "sage",
   "name": "sagemath"
  },
  "language_info": {
   "codemirror_mode": {
    "name": "ipython",
    "version": 3
   },
   "file_extension": ".py",
   "mimetype": "text/x-python",
   "name": "python",
   "nbconvert_exporter": "python",
   "pygments_lexer": "ipython3",
   "version": "3.10.12"
  }
 },
 "nbformat": 4,
 "nbformat_minor": 5
}
