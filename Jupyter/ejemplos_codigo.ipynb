{
 "cells": [
  {
   "cell_type": "markdown",
   "id": "2f077bae",
   "metadata": {},
   "source": [
    "# Ejemplos Código Desarrollado"
   ]
  },
  {
   "cell_type": "markdown",
   "id": "365dd674",
   "metadata": {},
   "source": [
    "En este documento vamos a realizar algunos ejemplos utilizando las clases implementadas.\n",
    "\n",
    "Las clases relacionadas con el Algoritmo de Sugiyama para códigos BCH se encuentran en el fichero `bch_sugiyama.sage` mientras que las clases relacionadas con la construcción, codificación y decodificación de códigos convolucionales sesgados RS se encuentran en el fichero `sccc_sugiyama.sage`. Estas clases se deben cargar utilizando la función `load()` de SageMath."
   ]
  },
  {
   "cell_type": "code",
   "execution_count": 1,
   "id": "6648f619",
   "metadata": {
    "tags": []
   },
   "outputs": [],
   "source": [
    "load(\"../src/bch_sugiyama.sage\")\n",
    "load(\"../src/sccc_sugiyama.sage\")"
   ]
  },
  {
   "cell_type": "markdown",
   "id": "2c0077d5",
   "metadata": {},
   "source": [
    "## Decodificación de códigos BCH con el algoritmo de Sugiyama"
   ]
  },
  {
   "cell_type": "markdown",
   "id": "9be9055c",
   "metadata": {},
   "source": [
    "### Ejemplo 1.  `BCHSugiyamaDecoder()`"
   ]
  },
  {
   "cell_type": "code",
   "execution_count": 42,
   "id": "78c24527",
   "metadata": {
    "tags": []
   },
   "outputs": [
    {
     "data": {
      "text/plain": [
       "Sugiyama decoder for [15, 5] BCH Code over GF(2) with designed distance 7"
      ]
     },
     "execution_count": 42,
     "metadata": {},
     "output_type": "execute_result"
    }
   ],
   "source": [
    "F = GF(2)\n",
    "C = BCHCode(F,15,7,offset = 1)\n",
    "D = BCHSugiyamaDecoder(C)\n",
    "D"
   ]
  },
  {
   "cell_type": "markdown",
   "id": "e1e2ce47",
   "metadata": {},
   "source": [
    "### Ejemplo 2. `correction_capability()`"
   ]
  },
  {
   "cell_type": "code",
   "execution_count": 3,
   "id": "1d01659c",
   "metadata": {
    "tags": []
   },
   "outputs": [
    {
     "data": {
      "text/plain": [
       "3"
      ]
     },
     "execution_count": 3,
     "metadata": {},
     "output_type": "execute_result"
    }
   ],
   "source": [
    "F = GF(2)\n",
    "C = BCHCode(F,15,7,offset = 1)\n",
    "D = BCHSugiyamaDecoder(C)\n",
    "D.correction_capability()"
   ]
  },
  {
   "cell_type": "markdown",
   "id": "97e6eee4",
   "metadata": {},
   "source": [
    "### Ejemplo 3. `decode_to_code(word)`"
   ]
  },
  {
   "cell_type": "code",
   "execution_count": 4,
   "id": "4832c8ae",
   "metadata": {
    "tags": []
   },
   "outputs": [],
   "source": [
    "F = GF(2)\n",
    "C = BCHCode(F,15,7,offset = 1)\n",
    "D = BCHSugiyamaDecoder(C)"
   ]
  },
  {
   "cell_type": "code",
   "execution_count": 5,
   "id": "273a3559",
   "metadata": {
    "tags": []
   },
   "outputs": [
    {
     "data": {
      "text/plain": [
       "(1, 1, 0, 1, 1, 0, 0, 1, 0, 1, 0, 0, 0, 0, 1)"
      ]
     },
     "execution_count": 5,
     "metadata": {},
     "output_type": "execute_result"
    }
   ],
   "source": [
    "message = vector([1,0,1,0,1])\n",
    "codeword = message * C.generator_matrix()\n",
    "codeword"
   ]
  },
  {
   "cell_type": "code",
   "execution_count": 6,
   "id": "76982868",
   "metadata": {
    "tags": []
   },
   "outputs": [
    {
     "data": {
      "text/plain": [
       "x^14 + x^9 + x^7 + x^4 + x^3 + x + 1"
      ]
     },
     "execution_count": 6,
     "metadata": {},
     "output_type": "execute_result"
    }
   ],
   "source": [
    "R = PolynomialRing(GF(2) ,'x')\n",
    "polynomial_codeword = R(list(codeword))\n",
    "polynomial_codeword"
   ]
  },
  {
   "cell_type": "code",
   "execution_count": 7,
   "id": "ef9afe2f",
   "metadata": {
    "tags": []
   },
   "outputs": [
    {
     "data": {
      "text/plain": [
       "(0, 0, 0, 1, 1, 0, 0, 1, 0, 0, 0, 0, 0, 0, 1)"
      ]
     },
     "execution_count": 7,
     "metadata": {},
     "output_type": "execute_result"
    }
   ],
   "source": [
    "error = vector([1, 1, 0, 0, 0, 0, 0, 0 , 0, 1, 0, 0, 0, 0, 0])\n",
    "received_message = codeword + error\n",
    "received_message"
   ]
  },
  {
   "cell_type": "code",
   "execution_count": 8,
   "id": "05d12a0e",
   "metadata": {
    "tags": []
   },
   "outputs": [
    {
     "data": {
      "text/plain": [
       "x^14 + x^7 + x^4 + x^3"
      ]
     },
     "execution_count": 8,
     "metadata": {},
     "output_type": "execute_result"
    }
   ],
   "source": [
    "y = R(list(received_message))\n",
    "y"
   ]
  },
  {
   "cell_type": "code",
   "execution_count": 9,
   "id": "8b291c6a",
   "metadata": {
    "tags": []
   },
   "outputs": [
    {
     "data": {
      "text/plain": [
       "x^14 + x^9 + x^7 + x^4 + x^3 + x + 1"
      ]
     },
     "execution_count": 9,
     "metadata": {},
     "output_type": "execute_result"
    }
   ],
   "source": [
    "decoded_codeword = D.decode_to_code(y)\n",
    "decoded_codeword"
   ]
  },
  {
   "cell_type": "code",
   "execution_count": 10,
   "id": "0d24e71f",
   "metadata": {
    "tags": []
   },
   "outputs": [
    {
     "data": {
      "text/plain": [
       "True"
      ]
     },
     "execution_count": 10,
     "metadata": {},
     "output_type": "execute_result"
    }
   ],
   "source": [
    "decoded_codeword == polynomial_codeword"
   ]
  },
  {
   "cell_type": "markdown",
   "id": "26b07567",
   "metadata": {},
   "source": [
    "## Construcción de Códigos Convolucionales Sesgados RS"
   ]
  },
  {
   "cell_type": "markdown",
   "id": "2be03ee3",
   "metadata": {},
   "source": [
    "### Ejemplo 4. `SkewRSConvolutionalCode()`"
   ]
  },
  {
   "cell_type": "code",
   "execution_count": 11,
   "id": "da22fe94",
   "metadata": {
    "tags": []
   },
   "outputs": [
    {
     "data": {
      "text/plain": [
       "Ore Polynomial Ring in x over Fraction Field of Univariate Polynomial Ring in t over Finite Field in a of size 2^3 twisted by t |--> (t + a)/t"
      ]
     },
     "execution_count": 11,
     "metadata": {},
     "output_type": "execute_result"
    }
   ],
   "source": [
    "F = GF(8, 'a')\n",
    "a = F.gen()  # Primitive element generator of F8\n",
    "R = PolynomialRing(F,'t')\n",
    "K.<t> = FractionField(R)\n",
    "aut = K.hom([(t+a)/t])\n",
    "inverse_aut = K.hom([a/(t-1)])\n",
    "P.<x> = SkewPolynomialRing(K, aut)\n",
    "P"
   ]
  },
  {
   "cell_type": "code",
   "execution_count": 12,
   "id": "36f04f65",
   "metadata": {
    "tags": []
   },
   "outputs": [],
   "source": [
    "alpha = t\n",
    "beta = alpha^(-1)*aut(alpha)\n",
    "roots = []\n",
    "for i in range (4) :\n",
    "    aut_i = aut^i\n",
    "    roots.append(x - aut_i( beta ))"
   ]
  },
  {
   "cell_type": "code",
   "execution_count": 13,
   "id": "a84f8467",
   "metadata": {
    "tags": []
   },
   "outputs": [
    {
     "data": {
      "text/plain": [
       "[7,3] Skew Reed-Solomon Convolutional Code on Ore Polynomial Ring in x over Fraction Field of Univariate Polynomial Ring in t over Finite Field in a of size 2^3 twisted by t |--> (t + a)/t with designed distance 5"
      ]
     },
     "execution_count": 13,
     "metadata": {},
     "output_type": "execute_result"
    }
   ],
   "source": [
    "C = SkewRSConvolutionalCode(roots = roots,inverse_aut = inverse_aut) \n",
    "C"
   ]
  },
  {
   "cell_type": "markdown",
   "id": "b8c31d9c",
   "metadata": {},
   "source": [
    "### Ejemplo 5. `generator_polynomial()`"
   ]
  },
  {
   "cell_type": "code",
   "execution_count": 14,
   "id": "4adde4e5",
   "metadata": {
    "tags": []
   },
   "outputs": [
    {
     "data": {
      "text/plain": [
       "x^4 + (((a^2 + a)*t + a^2)/(t^4 + a^2 + a + 1))*x^3 + ((a^2*t^6 + a*t^5 + a*t^4 + (a^2 + 1)*t^2 + (a^2 + a + 1)*t + a^2 + a + 1)/(t^5 + t^4 + (a^2 + a + 1)*t + a^2 + a + 1))*x^2 + (((a + 1)*t^7 + a^2*t^6 + a^2*t^5 + (a^2 + a + 1)*t^3 + (a^2 + a)*t^2 + (a^2 + a)*t)/(t^6 + a*t^5 + (a + 1)*t^4 + (a^2 + a + 1)*t^2 + (a^2 + 1)*t + a))*x + (a^2*t^6 + (a^2 + a)*t^5 + a^2*t^4 + a^2*t^3 + a*t)/(t^6 + (a^2 + 1)*t^5 + t^4 + (a^2 + a + 1)*t^2 + (a^2 + a)*t + a^2 + a + 1)"
      ]
     },
     "execution_count": 14,
     "metadata": {},
     "output_type": "execute_result"
    }
   ],
   "source": [
    "F = GF(8, 'a')\n",
    "a = F.gen()  # Primitive element generator of F8\n",
    "R = PolynomialRing(F,'t')\n",
    "K.<t> = FractionField(R)\n",
    "aut = K.hom([(t+a)/t])\n",
    "P.<x> = SkewPolynomialRing(K, aut)\n",
    "roots = [x + (t + a)/t^2,\n",
    " x + ((a + 1)*t^2 + a*t)/(t^2 + a^2),\n",
    " x + (a*t^2 + (a + 1)*t + a^2 + 1)/(t^2 + a + 1),\n",
    " x + (a*t^2 + (a + 1)*t + a^2)/(t^2 + a)]\n",
    "C = SkewRSConvolutionalCode(roots = roots) \n",
    "C.generator_polynomial()"
   ]
  },
  {
   "cell_type": "markdown",
   "id": "e5739bc3",
   "metadata": {},
   "source": [
    "### Ejemplo 6. `polynomial_ring()`"
   ]
  },
  {
   "cell_type": "code",
   "execution_count": 15,
   "id": "f3532bb5",
   "metadata": {
    "tags": []
   },
   "outputs": [
    {
     "data": {
      "text/plain": [
       "Ore Polynomial Ring in x over Fraction Field of Univariate Polynomial Ring in t over Finite Field in a of size 2^3 twisted by t |--> (t + a)/t"
      ]
     },
     "execution_count": 15,
     "metadata": {},
     "output_type": "execute_result"
    }
   ],
   "source": [
    "F = GF(8, 'a')\n",
    "a = F.gen()  # Primitive element generator of F8\n",
    "R = PolynomialRing(F,'t')\n",
    "K.<t> = FractionField(R)\n",
    "aut = K.hom([(t+a)/t])\n",
    "P.<x> = SkewPolynomialRing(K, aut)\n",
    "roots = [x + (t + a)/t^2,\n",
    " x + ((a + 1)*t^2 + a*t)/(t^2 + a^2),\n",
    " x + (a*t^2 + (a + 1)*t + a^2 + 1)/(t^2 + a + 1),\n",
    " x + (a*t^2 + (a + 1)*t + a^2)/(t^2 + a)]\n",
    "C = SkewRSConvolutionalCode(roots = roots) \n",
    "C.polynomial_ring()"
   ]
  },
  {
   "cell_type": "markdown",
   "id": "141b27f7",
   "metadata": {},
   "source": [
    "### Ejemplo 7. `base_field()`"
   ]
  },
  {
   "cell_type": "code",
   "execution_count": 16,
   "id": "2c74f14c",
   "metadata": {
    "tags": []
   },
   "outputs": [
    {
     "data": {
      "text/plain": [
       "Fraction Field of Univariate Polynomial Ring in t over Finite Field in a of size 2^3"
      ]
     },
     "execution_count": 16,
     "metadata": {},
     "output_type": "execute_result"
    }
   ],
   "source": [
    "F = GF(8, 'a')\n",
    "a = F.gen()  # Primitive element generator of F8\n",
    "R = PolynomialRing(F,'t')\n",
    "K.<t> = FractionField(R)\n",
    "aut = K.hom([(t+a)/t])\n",
    "P.<x> = SkewPolynomialRing(K, aut)\n",
    "roots = [x + (t + a)/t^2,\n",
    " x + ((a + 1)*t^2 + a*t)/(t^2 + a^2),\n",
    " x + (a*t^2 + (a + 1)*t + a^2 + 1)/(t^2 + a + 1),\n",
    " x + (a*t^2 + (a + 1)*t + a^2)/(t^2 + a)]\n",
    "C = SkewRSConvolutionalCode(roots = roots) \n",
    "C.base_field()"
   ]
  },
  {
   "cell_type": "markdown",
   "id": "7a9328b1",
   "metadata": {},
   "source": [
    "### Ejemplo 8. `length()`"
   ]
  },
  {
   "cell_type": "code",
   "execution_count": 17,
   "id": "8efc8005",
   "metadata": {
    "tags": []
   },
   "outputs": [
    {
     "data": {
      "text/plain": [
       "7"
      ]
     },
     "execution_count": 17,
     "metadata": {},
     "output_type": "execute_result"
    }
   ],
   "source": [
    "F = GF(8, 'a')\n",
    "a = F.gen()  # Primitive element generator of F8\n",
    "R = PolynomialRing(F,'t')\n",
    "K.<t> = FractionField(R)\n",
    "aut = K.hom([(t+a)/t])\n",
    "P.<x> = SkewPolynomialRing(K, aut)\n",
    "roots = [x + (t + a)/t^2,\n",
    " x + ((a + 1)*t^2 + a*t)/(t^2 + a^2),\n",
    " x + (a*t^2 + (a + 1)*t + a^2 + 1)/(t^2 + a + 1),\n",
    " x + (a*t^2 + (a + 1)*t + a^2)/(t^2 + a)]\n",
    "C = SkewRSConvolutionalCode(roots = roots) \n",
    "C.length()"
   ]
  },
  {
   "cell_type": "markdown",
   "id": "bd25e30f",
   "metadata": {},
   "source": [
    "### Ejemplo 9. `dimension()`"
   ]
  },
  {
   "cell_type": "code",
   "execution_count": 18,
   "id": "a6a4c01b",
   "metadata": {},
   "outputs": [
    {
     "data": {
      "text/plain": [
       "3"
      ]
     },
     "execution_count": 18,
     "metadata": {},
     "output_type": "execute_result"
    }
   ],
   "source": [
    "F = GF(8, 'a')\n",
    "a = F.gen()  # Primitive element generator of F8\n",
    "R = PolynomialRing(F,'t')\n",
    "K.<t> = FractionField(R)\n",
    "aut = K.hom([(t+a)/t])\n",
    "P.<x> = SkewPolynomialRing(K, aut)\n",
    "roots = [x + (t + a)/t^2,\n",
    " x + ((a + 1)*t^2 + a*t)/(t^2 + a^2),\n",
    " x + (a*t^2 + (a + 1)*t + a^2 + 1)/(t^2 + a + 1),\n",
    " x + (a*t^2 + (a + 1)*t + a^2)/(t^2 + a)]\n",
    "C = SkewRSConvolutionalCode(roots = roots) \n",
    "C.dimension()"
   ]
  },
  {
   "cell_type": "markdown",
   "id": "39e937a0",
   "metadata": {},
   "source": [
    "### Ejemplo 10. `designed_distance()`"
   ]
  },
  {
   "cell_type": "code",
   "execution_count": 19,
   "id": "16114e6e",
   "metadata": {},
   "outputs": [
    {
     "data": {
      "text/plain": [
       "5"
      ]
     },
     "execution_count": 19,
     "metadata": {},
     "output_type": "execute_result"
    }
   ],
   "source": [
    "F = GF(8, 'a')\n",
    "a = F.gen()  # Primitive element generator of F8\n",
    "R = PolynomialRing(F,'t')\n",
    "K.<t> = FractionField(R)\n",
    "aut = K.hom([(t+a)/t])\n",
    "P.<x> = SkewPolynomialRing(K, aut)\n",
    "roots = [x + (t + a)/t^2,\n",
    " x + ((a + 1)*t^2 + a*t)/(t^2 + a^2),\n",
    " x + (a*t^2 + (a + 1)*t + a^2 + 1)/(t^2 + a + 1),\n",
    " x + (a*t^2 + (a + 1)*t + a^2)/(t^2 + a)]\n",
    "C = SkewRSConvolutionalCode(roots = roots) \n",
    "C.designed_distance()"
   ]
  },
  {
   "cell_type": "markdown",
   "id": "7bcfc702",
   "metadata": {},
   "source": [
    "### Ejemplo 11. `automorphism()`"
   ]
  },
  {
   "cell_type": "code",
   "execution_count": 20,
   "id": "9cfe9fae",
   "metadata": {},
   "outputs": [
    {
     "data": {
      "text/plain": [
       "Ring endomorphism of Fraction Field of Univariate Polynomial Ring in t over Finite Field in a of size 2^3\n",
       "  Defn: t |--> (t + a)/t"
      ]
     },
     "execution_count": 20,
     "metadata": {},
     "output_type": "execute_result"
    }
   ],
   "source": [
    "F = GF(8, 'a')\n",
    "a = F.gen()  # Primitive element generator of F8\n",
    "R = PolynomialRing(F,'t')\n",
    "K.<t> = FractionField(R)\n",
    "aut = K.hom([(t+a)/t])\n",
    "P.<x> = SkewPolynomialRing(K, aut)\n",
    "roots = [x + (t + a)/t^2,\n",
    " x + ((a + 1)*t^2 + a*t)/(t^2 + a^2),\n",
    " x + (a*t^2 + (a + 1)*t + a^2 + 1)/(t^2 + a + 1),\n",
    " x + (a*t^2 + (a + 1)*t + a^2)/(t^2 + a)]\n",
    "C = SkewRSConvolutionalCode(roots = roots) \n",
    "C.automorphism()"
   ]
  },
  {
   "cell_type": "markdown",
   "id": "37785bb6",
   "metadata": {},
   "source": [
    "### Ejemplo 12. `inverse_automorphism()`"
   ]
  },
  {
   "cell_type": "code",
   "execution_count": 21,
   "id": "6d17d6bb",
   "metadata": {},
   "outputs": [
    {
     "data": {
      "text/plain": [
       "Ring endomorphism of Fraction Field of Univariate Polynomial Ring in t over Finite Field in a of size 2^3\n",
       "  Defn: t |--> a/(t + 1)"
      ]
     },
     "execution_count": 21,
     "metadata": {},
     "output_type": "execute_result"
    }
   ],
   "source": [
    "F = GF(8, 'a')\n",
    "a = F.gen()  # Primitive element generator of F8\n",
    "R = PolynomialRing(F,'t')\n",
    "K.<t> = FractionField(R)\n",
    "aut = K.hom([(t+a)/t])\n",
    "inverse_aut = K.hom([a/(t-1)])\n",
    "P.<x> = SkewPolynomialRing(K, aut)\n",
    "roots = [x + (t + a)/t^2,\n",
    " x + ((a + 1)*t^2 + a*t)/(t^2 + a^2),\n",
    " x + (a*t^2 + (a + 1)*t + a^2 + 1)/(t^2 + a + 1),\n",
    " x + (a*t^2 + (a + 1)*t + a^2)/(t^2 + a)]\n",
    "C = SkewRSConvolutionalCode(roots = roots,inverse_aut = inverse_aut) \n",
    "C.inverse_automorphism()"
   ]
  },
  {
   "cell_type": "markdown",
   "id": "0fb94afc",
   "metadata": {},
   "source": [
    "## Codificador de Códigos Convolucionales Sesgados RS"
   ]
  },
  {
   "cell_type": "markdown",
   "id": "ac3f6b21",
   "metadata": {},
   "source": [
    "### Ejemplo 13. `SkewRSConvolutionalEndoder()`"
   ]
  },
  {
   "cell_type": "code",
   "execution_count": 22,
   "id": "1a499f2b",
   "metadata": {},
   "outputs": [
    {
     "data": {
      "text/plain": [
       "SkewRSConvolutionalEncoder for a [7,3] Skew Reed-Solomon Convolutional Code on Ore Polynomial Ring in x over Fraction Field of Univariate Polynomial Ring in t over Finite Field in a of size 2^3 twisted by t |--> (t + a)/t with designed distance 5"
      ]
     },
     "execution_count": 22,
     "metadata": {},
     "output_type": "execute_result"
    }
   ],
   "source": [
    "F = GF(8, 'a')\n",
    "a = F.gen()  # Primitive element generator of F8\n",
    "R = PolynomialRing(F,'t')\n",
    "K.<t> = FractionField(R)\n",
    "aut = K.hom([(t+a)/t])\n",
    "P.<x> = SkewPolynomialRing(K, aut)\n",
    "roots = [x + (t + a)/t^2,\n",
    " x + ((a + 1)*t^2 + a*t)/(t^2 + a^2),\n",
    " x + (a*t^2 + (a + 1)*t + a^2 + 1)/(t^2 + a + 1),\n",
    " x + (a*t^2 + (a + 1)*t + a^2)/(t^2 + a)]\n",
    "C = SkewRSConvolutionalCode(roots = roots) \n",
    "SkewRSConvolutionalEncoder(C)"
   ]
  },
  {
   "cell_type": "markdown",
   "id": "dcf7fade",
   "metadata": {},
   "source": [
    "### Ejemplo 14. `encode(word)`"
   ]
  },
  {
   "cell_type": "code",
   "execution_count": 23,
   "id": "edccbe6a",
   "metadata": {},
   "outputs": [
    {
     "data": {
      "text/plain": [
       "x^5 + ((a^2*t^4 + a*t^3 + a)/(t^4 + 1))*x^4 + ((a^2*t^10 + a^2*t^9 + (a^2 + a)*t^8 + a^2*t^6 + (a^2 + a + 1)*t^4 + a*t^2 + (a^2 + a)*t + a)/(t^9 + (a^2 + a)*t^5 + (a^2 + a + 1)*t))*x^3 + ((t^10 + (a^2 + 1)*t^9 + (a^2 + 1)*t^8 + a*t^7 + t^6 + t^5 + a^2*t^3 + t^2 + (a^2 + a)*t + a^2)/(t^10 + t^9 + (a^2 + a)*t^6 + (a^2 + a)*t^5 + (a^2 + a + 1)*t^2 + (a^2 + a + 1)*t))*x^2 + (((a^2 + a)*t^11 + (a + 1)*t^10 + (a + 1)*t^9 + (a^2 + a + 1)*t^7 + (a + 1)*t^6 + t^5 + (a^2 + a + 1)*t^4 + a^2*t^3 + a^2*t^2 + t + a + 1)/(t^10 + a*t^9 + (a + 1)*t^8 + (a^2 + a)*t^6 + (a^2 + a + 1)*t^5 + t^4 + (a^2 + a + 1)*t^2 + (a^2 + 1)*t + a))*x + ((a + 1)*t^6 + (a^2 + a + 1)*t^5 + (a + 1)*t^4 + (a + 1)*t^3 + a^2*t)/(t^6 + (a^2 + 1)*t^5 + t^4 + (a^2 + a + 1)*t^2 + (a^2 + a)*t + a^2 + a + 1)"
      ]
     },
     "execution_count": 23,
     "metadata": {},
     "output_type": "execute_result"
    }
   ],
   "source": [
    "F = GF(8, 'a')\n",
    "a = F.gen()  # Primitive element generator of F8\n",
    "R = PolynomialRing(F,'t')\n",
    "K.<t> = FractionField(R)\n",
    "aut = K.hom([(t+a)/t])\n",
    "P.<x> = SkewPolynomialRing(K, aut)\n",
    "roots = [x + (t + a)/t^2,\n",
    " x + ((a + 1)*t^2 + a*t)/(t^2 + a^2),\n",
    " x + (a*t^2 + (a + 1)*t + a^2 + 1)/(t^2 + a + 1),\n",
    " x + (a*t^2 + (a + 1)*t + a^2)/(t^2 + a)]\n",
    "C = SkewRSConvolutionalCode(roots = roots) \n",
    "E = SkewRSConvolutionalEncoder(C)\n",
    "E.encode(x + a)"
   ]
  },
  {
   "cell_type": "markdown",
   "id": "68034375",
   "metadata": {},
   "source": [
    "### Ejemplo 15. `unencode(codeword)`"
   ]
  },
  {
   "cell_type": "code",
   "execution_count": 24,
   "id": "5288ded2",
   "metadata": {},
   "outputs": [
    {
     "data": {
      "text/plain": [
       "x + a"
      ]
     },
     "execution_count": 24,
     "metadata": {},
     "output_type": "execute_result"
    }
   ],
   "source": [
    "F = GF(8, 'a')\n",
    "a = F.gen()  # Primitive element generator of F8\n",
    "R = PolynomialRing(F,'t')\n",
    "K.<t> = FractionField(R)\n",
    "aut = K.hom([(t+a)/t])\n",
    "P.<x> = SkewPolynomialRing(K, aut)\n",
    "roots = [x + (t + a)/t^2,\n",
    " x + ((a + 1)*t^2 + a*t)/(t^2 + a^2),\n",
    " x + (a*t^2 + (a + 1)*t + a^2 + 1)/(t^2 + a + 1),\n",
    " x + (a*t^2 + (a + 1)*t + a^2)/(t^2 + a)]\n",
    "C = SkewRSConvolutionalCode(roots = roots) \n",
    "E = SkewRSConvolutionalEncoder(C)\n",
    "codeword = x^5 + ((a^2*t^4 + a*t^3 + a)/(t^4 + 1))*x^4 + ((a^2*t^10 + a^2*t^9 + (a^2 + a)*t^8 + a^2*t^6 + (a^2 + a + 1)*t^4 + a*t^2 + (a^2 + a)*t + a)/(t^9 + (a^2 + a)*t^5 + (a^2 + a + 1)*t))*x^3 + ((t^10 + (a^2 + 1)*t^9 + (a^2 + 1)*t^8 + a*t^7 + t^6 + t^5 + a^2*t^3 + t^2 + (a^2 + a)*t + a^2)/(t^10 + t^9 + (a^2 + a)*t^6 + (a^2 + a)*t^5 + (a^2 + a + 1)*t^2 + (a^2 + a + 1)*t))*x^2 + (((a^2 + a)*t^11 + (a + 1)*t^10 + (a + 1)*t^9 + (a^2 + a + 1)*t^7 + (a + 1)*t^6 + t^5 + (a^2 + a + 1)*t^4 + a^2*t^3 + a^2*t^2 + t + a + 1)/(t^10 + a*t^9 + (a + 1)*t^8 + (a^2 + a)*t^6 + (a^2 + a + 1)*t^5 + t^4 + (a^2 + a + 1)*t^2 + (a^2 + 1)*t + a))*x + ((a + 1)*t^6 + (a^2 + a + 1)*t^5 + (a + 1)*t^4 + (a + 1)*t^3 + a^2*t)/(t^6 + (a^2 + 1)*t^5 + t^4 + (a^2 + a + 1)*t^2 + (a^2 + a)*t + a^2 + a + 1)\n",
    "E.unencode(codeword)"
   ]
  },
  {
   "cell_type": "markdown",
   "id": "53670ab7",
   "metadata": {},
   "source": [
    "## Decodificador de códigos convolucionales sesgados RS"
   ]
  },
  {
   "cell_type": "markdown",
   "id": "b94935d8",
   "metadata": {},
   "source": [
    "### Ejemplo 16. `SkewRSSugiyamaDecoder()`"
   ]
  },
  {
   "cell_type": "code",
   "execution_count": 25,
   "id": "932d44cb",
   "metadata": {
    "tags": []
   },
   "outputs": [
    {
     "data": {
      "text/plain": [
       "<A Sugiyama-like algorithm for [7,3] Skew Reed-Solomon Convolutional Code on Ore Polynomial Ring in x over Fraction Field of Univariate Polynomial Ring in t over Finite Field in a of size 2^3 twisted by t |--> (t + a)/t with designed distance 5 with correction capability of 2 errors>"
      ]
     },
     "execution_count": 25,
     "metadata": {},
     "output_type": "execute_result"
    }
   ],
   "source": [
    "F = GF(8, 'a')\n",
    "a = F.gen()  # Primitive element generator of F8\n",
    "R = PolynomialRing(F,'t')\n",
    "K.<t> = FractionField(R)\n",
    "aut = K.hom([(t+a)/t])\n",
    "P.<x> = SkewPolynomialRing(K, aut)\n",
    "roots = [x + (t + a)/t^2,\n",
    " x + ((a + 1)*t^2 + a*t)/(t^2 + a^2),\n",
    " x + (a*t^2 + (a + 1)*t + a^2 + 1)/(t^2 + a + 1),\n",
    " x + (a*t^2 + (a + 1)*t + a^2)/(t^2 + a)]\n",
    "C = SkewRSConvolutionalCode(roots = roots) \n",
    "SkewRSSugiyamaDecoder(C)"
   ]
  },
  {
   "cell_type": "markdown",
   "id": "62618a15",
   "metadata": {},
   "source": [
    "### Ejemplo 17. `correction_capability()`"
   ]
  },
  {
   "cell_type": "code",
   "execution_count": 26,
   "id": "637c0f52",
   "metadata": {
    "tags": []
   },
   "outputs": [
    {
     "data": {
      "text/plain": [
       "2"
      ]
     },
     "execution_count": 26,
     "metadata": {},
     "output_type": "execute_result"
    }
   ],
   "source": [
    "F = GF(8, 'a')\n",
    "a = F.gen()  # Primitive element generator of F8\n",
    "R = PolynomialRing(F,'t')\n",
    "K.<t> = FractionField(R)\n",
    "sigma = K.hom([(t+a)/t])\n",
    "inverse_sigma = K.hom([a/(t-1)])\n",
    "P.<x> = SkewPolynomialRing(K, sigma)\n",
    "C = SkewRSConvolutionalCode(roots = roots,inverse_aut = inverse_sigma)\n",
    "D = SkewRSSugiyamaDecoder(C)\n",
    "D.correction_capability()"
   ]
  },
  {
   "cell_type": "markdown",
   "id": "09fb76e2",
   "metadata": {},
   "source": [
    "### Ejemplo 18. `decode_to_code(word)`"
   ]
  },
  {
   "cell_type": "code",
   "execution_count": 43,
   "id": "2ff86e08",
   "metadata": {},
   "outputs": [
    {
     "data": {
      "text/plain": [
       "x^4 + (((a^2 + a)*t + a^2)/(t^4 + a^2 + a + 1))*x^3 + ((a^2*t^6 + a*t^5 + a*t^4 + (a^2 + 1)*t^2 + (a^2 + a + 1)*t + a^2 + a + 1)/(t^5 + t^4 + (a^2 + a + 1)*t + a^2 + a + 1))*x^2 + (((a + 1)*t^7 + a^2*t^6 + a^2*t^5 + (a^2 + a + 1)*t^3 + (a^2 + a)*t^2 + (a^2 + a)*t)/(t^6 + a*t^5 + (a + 1)*t^4 + (a^2 + a + 1)*t^2 + (a^2 + 1)*t + a))*x + (a^2*t^6 + (a^2 + a)*t^5 + a^2*t^4 + a^2*t^3 + a*t)/(t^6 + (a^2 + 1)*t^5 + t^4 + (a^2 + a + 1)*t^2 + (a^2 + a)*t + a^2 + a + 1)"
      ]
     },
     "execution_count": 43,
     "metadata": {},
     "output_type": "execute_result"
    }
   ],
   "source": [
    "F = GF(8, 'a')\n",
    "a = F.gen()  # Primitive element generator of F8\n",
    "R = PolynomialRing(F,'t')\n",
    "K.<t> = FractionField(R)\n",
    "aut = K.hom([(t+a)/t])\n",
    "inverse_aut = K.hom([a/(t-1)])\n",
    "alpha = t\n",
    "P.<x> = SkewPolynomialRing(K, aut)\n",
    "roots = [x + (t + a)/t^2,\n",
    " x + ((a + 1)*t^2 + a*t)/(t^2 + a^2),\n",
    " x + (a*t^2 + (a + 1)*t + a^2 + 1)/(t^2 + a + 1),\n",
    " x + (a*t^2 + (a + 1)*t + a^2)/(t^2 + a)]\n",
    "C = SkewRSConvolutionalCode(roots = roots,inverse_aut = inverse_aut,alpha = alpha)\n",
    "D = SkewRSSugiyamaDecoder(C)\n",
    "g = C.generator_polynomial()\n",
    "error = ((t + 2*a)/(1+t))*x^3 + (t/(2*t + 1))*x\n",
    "received_word = g - error\n",
    "decoded_word = D.decode_to_code(received_word)\n",
    "decoded_word"
   ]
  },
  {
   "cell_type": "code",
   "execution_count": 28,
   "id": "ae25ebdb",
   "metadata": {},
   "outputs": [
    {
     "data": {
      "text/plain": [
       "True"
      ]
     },
     "execution_count": 28,
     "metadata": {},
     "output_type": "execute_result"
    }
   ],
   "source": [
    "decoded_word == g"
   ]
  },
  {
   "cell_type": "markdown",
   "id": "f4330b25",
   "metadata": {},
   "source": [
    "## Funciones Auxiliares"
   ]
  },
  {
   "cell_type": "markdown",
   "id": "008898eb",
   "metadata": {},
   "source": [
    "### Ejemplo 19. `left_lcm(polynomials)`"
   ]
  },
  {
   "cell_type": "code",
   "execution_count": 29,
   "id": "16eaa886",
   "metadata": {},
   "outputs": [
    {
     "data": {
      "text/plain": [
       "x^4 + (((a^2 + a)*t + a^2)/(t^4 + a^2 + a + 1))*x^3 + ((a^2*t^6 + a*t^5 + a*t^4 + (a^2 + 1)*t^2 + (a^2 + a + 1)*t + a^2 + a + 1)/(t^5 + t^4 + (a^2 + a + 1)*t + a^2 + a + 1))*x^2 + (((a + 1)*t^7 + a^2*t^6 + a^2*t^5 + (a^2 + a + 1)*t^3 + (a^2 + a)*t^2 + (a^2 + a)*t)/(t^6 + a*t^5 + (a + 1)*t^4 + (a^2 + a + 1)*t^2 + (a^2 + 1)*t + a))*x + (a^2*t^6 + (a^2 + a)*t^5 + a^2*t^4 + a^2*t^3 + a*t)/(t^6 + (a^2 + 1)*t^5 + t^4 + (a^2 + a + 1)*t^2 + (a^2 + a)*t + a^2 + a + 1)"
      ]
     },
     "execution_count": 29,
     "metadata": {},
     "output_type": "execute_result"
    }
   ],
   "source": [
    "F = GF(8, 'a')\n",
    "a = F.gen()  # Primitive element generator of F8\n",
    "R = PolynomialRing(F,'t')\n",
    "K.<t> = FractionField(R)\n",
    "aut = K.hom([(t+a)/t])\n",
    "P.<x> = SkewPolynomialRing(K, aut)\n",
    "roots = [x + (t + a)/t^2,\n",
    " x + ((a + 1)*t^2 + a*t)/(t^2 + a^2),\n",
    " x + (a*t^2 + (a + 1)*t + a^2 + 1)/(t^2 + a + 1),\n",
    " x + (a*t^2 + (a + 1)*t + a^2)/(t^2 + a)]\n",
    "left_lcm(roots)"
   ]
  },
  {
   "cell_type": "markdown",
   "id": "82c5a0f1",
   "metadata": {},
   "source": [
    "### Ejemplo 20. `order_of_automorphism(K,aut)`"
   ]
  },
  {
   "cell_type": "code",
   "execution_count": 30,
   "id": "974841eb",
   "metadata": {},
   "outputs": [
    {
     "data": {
      "text/plain": [
       "7"
      ]
     },
     "execution_count": 30,
     "metadata": {},
     "output_type": "execute_result"
    }
   ],
   "source": [
    "F = GF(8, 'a')\n",
    "a = F.gen()  # Primitive element generator of F8\n",
    "R = PolynomialRing(F,'t')\n",
    "K.<t> = FractionField(R)\n",
    "aut = K.hom([(t+a)/t])\n",
    "order_of_automorphism(K,aut)"
   ]
  },
  {
   "cell_type": "markdown",
   "id": "fdc91d07",
   "metadata": {},
   "source": [
    "### Ejemplo 21. `jth_norm(alpha,aut,j)`"
   ]
  },
  {
   "cell_type": "code",
   "execution_count": 31,
   "id": "315d8b77",
   "metadata": {},
   "outputs": [
    {
     "data": {
      "text/plain": [
       "(a + 1)*t + a"
      ]
     },
     "execution_count": 31,
     "metadata": {},
     "output_type": "execute_result"
    }
   ],
   "source": [
    "F = GF(8, 'a')\n",
    "a = F.gen()  # Primitive element generator of F8\n",
    "R = PolynomialRing(F,'t')\n",
    "K.<t> = FractionField(R)\n",
    "aut = K.hom([(t+a)/t])\n",
    "alpha = t\n",
    "jth_norm(alpha, aut, 10)"
   ]
  },
  {
   "cell_type": "markdown",
   "id": "cc31c6c3",
   "metadata": {},
   "source": [
    "### Ejemplo 22. `normal_basis(aut,c,F)`"
   ]
  },
  {
   "cell_type": "code",
   "execution_count": 32,
   "id": "e2110fd8",
   "metadata": {},
   "outputs": [
    {
     "data": {
      "text/plain": [
       "True"
      ]
     },
     "execution_count": 32,
     "metadata": {},
     "output_type": "execute_result"
    }
   ],
   "source": [
    "F = GF(8, 'a')\n",
    "a = F.gen()  # Primitive element generator of F8\n",
    "R = PolynomialRing(F,'t')\n",
    "K.<t> = FractionField(R)\n",
    "aut = K.hom([(t+a)/t])\n",
    "c = t\n",
    "normal_basis(aut,alpha,K)"
   ]
  },
  {
   "cell_type": "markdown",
   "id": "638d22a9",
   "metadata": {},
   "source": [
    "### Ejemplo 23. `RightED(f,g,inverse_aut)`"
   ]
  },
  {
   "cell_type": "code",
   "execution_count": 33,
   "id": "d0278df7",
   "metadata": {},
   "outputs": [],
   "source": [
    "F = GF(8, 'a')\n",
    "a = F.gen()  # Primitive element generator of F8\n",
    "R = PolynomialRing(F,'t')\n",
    "K.<t> = FractionField(R)\n",
    "aut = K.hom([(t+a)/t])\n",
    "inverse_aut = K.hom([a/(t-1)])\n",
    "P.<x> = SkewPolynomialRing(K, aut)\n",
    "f = (t^4*a + t^2*a^2 + a)/(t^5 + a)*x^4 + x^2 + 1\n",
    "g = (t^4*a + t^2*a^3 + t)/(t^3 + t*a)*x^2 + x + t\n",
    "quotient,reminder = RightED(f,g,inverse_aut)"
   ]
  },
  {
   "cell_type": "code",
   "execution_count": 34,
   "id": "d2a295f2",
   "metadata": {},
   "outputs": [
    {
     "data": {
      "text/plain": [
       "((a*t^8 + a^2*t^6 + (a^2 + 1)*t^4 + a^2 + 1)/(t^8 + t^7 + (a^2 + a)*t^6 + t^5 + (a^2 + a)*t^4 + t^3 + t^2 + a^2*t + a^2 + a))*x^2 + (((a^2 + 1)*t^9 + (a^2 + a)*t^8 + t^7 + (a^2 + a)*t^6 + t^5 + (a^2 + 1)*t^4 + a*t^2)/(t^9 + a*t^8 + a*t^7 + t^6 + (a^2 + 1)*t^5 + (a + 1)*t^4 + (a^2 + a)*t^3 + (a + 1)*t^2 + (a^2 + 1)*t + a + 1))*x + ((a^2 + a)*t^12 + a*t^11 + (a^2 + a)*t^10 + (a + 1)*t^9 + (a^2 + a)*t^8 + a^2*t^7 + t^6 + (a^2 + a)*t^5 + (a^2 + a)*t^4 + a^2*t^3 + (a^2 + a + 1)*t^2 + a*t + a^2 + a + 1)/(t^12 + (a^2 + a)*t^11 + t^10 + (a^2 + a)*t^9 + a^2*t^8 + (a^2 + a + 1)*t^7 + t^6 + a^2*t^5 + t^4 + a^2*t^3 + t^2 + (a^2 + a + 1)*t)"
      ]
     },
     "execution_count": 34,
     "metadata": {},
     "output_type": "execute_result"
    }
   ],
   "source": [
    "quotient"
   ]
  },
  {
   "cell_type": "code",
   "execution_count": 35,
   "id": "fe0f27d5",
   "metadata": {},
   "outputs": [
    {
     "data": {
      "text/plain": [
       "(((a^2 + 1)*t^14 + a*t^13 + t^11 + (a^2 + 1)*t^10 + a^2*t^8 + (a^2 + a)*t^7 + a*t^6 + t^5 + a*t^4 + (a + 1)*t^3 + (a + 1)*t^2 + (a^2 + 1)*t + a)/(t^13 + (a^2 + a + 1)*t^12 + (a^2 + a + 1)*t^11 + (a^2 + a + 1)*t^9 + a*t^8 + (a^2 + a + 1)*t^7 + t^6 + a^2*t^4 + a^2*t^3 + (a^2 + 1)*t^2 + a^2*t + a^2 + a))*x + ((a^2 + a)*t^12 + (a + 1)*t^11 + a*t^9 + (a^2 + a)*t^6 + (a^2 + a + 1)*t^5 + a*t^4 + (a^2 + 1)*t^3 + (a + 1)*t^2 + (a + 1)*t)/(t^11 + (a^2 + a)*t^10 + t^9 + (a^2 + a)*t^8 + a^2*t^7 + (a^2 + a + 1)*t^6 + t^5 + a^2*t^4 + t^3 + a^2*t^2 + t + a^2 + a + 1)"
      ]
     },
     "execution_count": 35,
     "metadata": {},
     "output_type": "execute_result"
    }
   ],
   "source": [
    "reminder"
   ]
  },
  {
   "cell_type": "code",
   "execution_count": 36,
   "id": "53906a30",
   "metadata": {},
   "outputs": [
    {
     "data": {
      "text/plain": [
       "True"
      ]
     },
     "execution_count": 36,
     "metadata": {},
     "output_type": "execute_result"
    }
   ],
   "source": [
    "f == g*quotient + reminder"
   ]
  },
  {
   "cell_type": "markdown",
   "id": "20880c7f",
   "metadata": {},
   "source": [
    "### Ejemplo 24. `LeftED(f,g,aut)`"
   ]
  },
  {
   "cell_type": "code",
   "execution_count": 37,
   "id": "d00e1081",
   "metadata": {},
   "outputs": [],
   "source": [
    "F = GF(8, 'a')\n",
    "a = F.gen()  # Primitive element generator of F8\n",
    "R = PolynomialRing(F,'t')\n",
    "K.<t> = FractionField(R)\n",
    "aut = K.hom([(t+a)/t])\n",
    "P.<x> = SkewPolynomialRing(K, aut)\n",
    "f = (t^4*a + t^2*a^2 + a)/(t^5 + a)*x^4 + x^2 + 1\n",
    "g = (t^4*a + t^2*a^3 + t)/(t^3 + t*a)*x^2 + x + t\n",
    "quotient,reminder = LeftED(f,g,aut)"
   ]
  },
  {
   "cell_type": "code",
   "execution_count": 38,
   "id": "0426b51e",
   "metadata": {},
   "outputs": [
    {
     "data": {
      "text/plain": [
       "((a*t^7 + a^2*t^6 + (a^2 + a)*t^5 + (a^2 + a + 1)*t^4 + (a^2 + a)*t^3 + (a^2 + a + 1)*t^2 + a*t + a^2)/(t^8 + (a^2 + 1)*t^7 + (a^2 + a + 1)*t^6 + a*t^3 + t^2 + (a^2 + 1)*t))*x^2 + (((a + 1)*t^8 + (a + 1)*t^7 + a^2*t^6 + (a^2 + 1)*t^5 + (a^2 + a)*t^4 + (a^2 + 1)*t^3 + (a + 1)*t + 1)/(t^8 + a*t^7 + (a^2 + 1)*t^5 + (a^2 + a)*t^4 + (a + 1)*t^3 + (a^2 + a + 1)*t^2 + (a^2 + 1)*t + a^2 + 1))*x + (t^12 + (a^2 + 1)*t^11 + t^10 + a^2*t^9 + a^2*t^8 + (a^2 + a)*t^7 + a*t^6 + (a^2 + 1)*t^5 + a^2*t^4 + a^2 + a + 1)/(t^13 + t^12 + a*t^11 + a^2*t^10 + a*t^9 + (a + 1)*t^8 + (a^2 + a)*t^7 + (a^2 + 1)*t^6 + (a + 1)*t^5 + a^2*t^4 + a*t^3 + (a + 1)*t^2 + a*t)"
      ]
     },
     "execution_count": 38,
     "metadata": {},
     "output_type": "execute_result"
    }
   ],
   "source": [
    "quotient"
   ]
  },
  {
   "cell_type": "code",
   "execution_count": 39,
   "id": "de59ec26",
   "metadata": {},
   "outputs": [
    {
     "data": {
      "text/plain": [
       "(((a + 1)*t^13 + t^12 + a^2*t^11 + (a^2 + 1)*t^10 + (a^2 + a + 1)*t^9 + (a^2 + a + 1)*t^8 + a^2*t^7 + t^6 + (a^2 + a)*t^5 + a*t^4 + (a^2 + 1)*t^3 + t^2 + (a^2 + 1)*t + a^2)/(t^13 + t^12 + a*t^11 + a^2*t^10 + a*t^9 + (a + 1)*t^8 + (a^2 + a)*t^7 + (a^2 + 1)*t^6 + (a + 1)*t^5 + a^2*t^4 + a*t^3 + (a + 1)*t^2 + a*t))*x + (a^2*t^11 + (a + 1)*t^10 + (a^2 + a)*t^8 + (a^2 + 1)*t^7 + a^2*t^6 + (a^2 + a + 1)*t^4 + a^2*t^3 + a*t^2 + (a + 1)*t + a^2 + 1)/(t^12 + t^11 + a*t^10 + a^2*t^9 + a*t^8 + (a + 1)*t^7 + (a^2 + a)*t^6 + (a^2 + 1)*t^5 + (a + 1)*t^4 + a^2*t^3 + a*t^2 + (a + 1)*t + a)"
      ]
     },
     "execution_count": 39,
     "metadata": {},
     "output_type": "execute_result"
    }
   ],
   "source": [
    "reminder"
   ]
  },
  {
   "cell_type": "code",
   "execution_count": 40,
   "id": "23422de4",
   "metadata": {},
   "outputs": [
    {
     "data": {
      "text/plain": [
       "True"
      ]
     },
     "execution_count": 40,
     "metadata": {},
     "output_type": "execute_result"
    }
   ],
   "source": [
    "f == quotient*g + reminder"
   ]
  },
  {
   "cell_type": "markdown",
   "id": "cd7ce4fe",
   "metadata": {},
   "source": [
    "### Ejemplo 25. `REEA(f,g,inverse_aut)`"
   ]
  },
  {
   "cell_type": "code",
   "execution_count": 41,
   "id": "eaf97f13",
   "metadata": {},
   "outputs": [
    {
     "data": {
      "text/plain": [
       "True"
      ]
     },
     "execution_count": 41,
     "metadata": {},
     "output_type": "execute_result"
    }
   ],
   "source": [
    "F = GF(8, 'a')\n",
    "a = F.gen()  # Primitive element generator of F8\n",
    "R = PolynomialRing(F,'t')\n",
    "K.<t> = FractionField(R)\n",
    "aut = K.hom([(t+a)/t])\n",
    "P.<x> = SkewPolynomialRing(K, aut)\n",
    "f = (t^4*a + t^2*a^2 + a)/(t^5 + a)*x^4 + x^2 + 1\n",
    "g = (t^4*a + t^2*a^3 + t)/(t^3 + t*a)*x^2 + x + t\n",
    "u,v,r = REEA(f,g,inverse_aut)\n",
    "f*u[2] + g*v[2] == r[2] "
   ]
  }
 ],
 "metadata": {
  "kernelspec": {
   "display_name": "SageMath 9.5",
   "language": "sage",
   "name": "sagemath"
  },
  "language_info": {
   "codemirror_mode": {
    "name": "ipython",
    "version": 3
   },
   "file_extension": ".py",
   "mimetype": "text/x-python",
   "name": "python",
   "nbconvert_exporter": "python",
   "pygments_lexer": "ipython3",
   "version": "3.10.12"
  }
 },
 "nbformat": 4,
 "nbformat_minor": 5
}
